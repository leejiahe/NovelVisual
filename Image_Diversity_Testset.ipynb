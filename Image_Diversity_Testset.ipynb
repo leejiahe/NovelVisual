{
 "cells": [
  {
   "cell_type": "markdown",
   "metadata": {},
   "source": [
    "# Image Statistics Measures on MediaEval Dataset\n",
    "\n"
   ]
  },
  {
   "cell_type": "code",
   "execution_count": 1,
   "metadata": {},
   "outputs": [],
   "source": [
    "import pandas as pd\n",
    "import numpy as np\n",
    "import matplotlib.pyplot as plt\n",
    "import seaborn as sns\n",
    "from PIL import Image\n",
    "import glob, os"
   ]
  },
  {
   "cell_type": "code",
   "execution_count": 2,
   "metadata": {},
   "outputs": [
    {
     "data": {
      "text/html": [
       "<div>\n",
       "<style scoped>\n",
       "    .dataframe tbody tr th:only-of-type {\n",
       "        vertical-align: middle;\n",
       "    }\n",
       "\n",
       "    .dataframe tbody tr th {\n",
       "        vertical-align: top;\n",
       "    }\n",
       "\n",
       "    .dataframe thead th {\n",
       "        text-align: right;\n",
       "    }\n",
       "</style>\n",
       "<table border=\"1\" class=\"dataframe\">\n",
       "  <thead>\n",
       "    <tr style=\"text-align: right;\">\n",
       "      <th></th>\n",
       "      <th>tweetText</th>\n",
       "      <th>label</th>\n",
       "      <th>num_words</th>\n",
       "      <th>text_length</th>\n",
       "      <th>contains_questmark</th>\n",
       "      <th>num_questmark</th>\n",
       "      <th>contains_exclammark</th>\n",
       "      <th>num_exclammark</th>\n",
       "      <th>contains_happyemo</th>\n",
       "      <th>contains_sademo</th>\n",
       "      <th>...</th>\n",
       "      <th>num_friends</th>\n",
       "      <th>num_followers</th>\n",
       "      <th>folfriend_ratio</th>\n",
       "      <th>times_listed</th>\n",
       "      <th>has_url</th>\n",
       "      <th>is_verified</th>\n",
       "      <th>num_tweets</th>\n",
       "      <th>imageId</th>\n",
       "      <th>imagePath</th>\n",
       "      <th>event</th>\n",
       "    </tr>\n",
       "    <tr>\n",
       "      <th>timestamp</th>\n",
       "      <th></th>\n",
       "      <th></th>\n",
       "      <th></th>\n",
       "      <th></th>\n",
       "      <th></th>\n",
       "      <th></th>\n",
       "      <th></th>\n",
       "      <th></th>\n",
       "      <th></th>\n",
       "      <th></th>\n",
       "      <th></th>\n",
       "      <th></th>\n",
       "      <th></th>\n",
       "      <th></th>\n",
       "      <th></th>\n",
       "      <th></th>\n",
       "      <th></th>\n",
       "      <th></th>\n",
       "      <th></th>\n",
       "      <th></th>\n",
       "      <th></th>\n",
       "    </tr>\n",
       "  </thead>\n",
       "  <tbody>\n",
       "    <tr>\n",
       "      <th>2015-03-20 17:44:11</th>\n",
       "      <td>@ebonfigli: Éclipse vue de l'ISS... Autre chos...</td>\n",
       "      <td>0</td>\n",
       "      <td>13</td>\n",
       "      <td>116</td>\n",
       "      <td>0</td>\n",
       "      <td>0</td>\n",
       "      <td>0</td>\n",
       "      <td>0</td>\n",
       "      <td>0</td>\n",
       "      <td>0</td>\n",
       "      <td>...</td>\n",
       "      <td>207</td>\n",
       "      <td>276</td>\n",
       "      <td>1.333333</td>\n",
       "      <td>10</td>\n",
       "      <td>0</td>\n",
       "      <td>0</td>\n",
       "      <td>15564</td>\n",
       "      <td>eclipse_01</td>\n",
       "      <td>./MediaEval/mediaeval2015/testset/TestSetImage...</td>\n",
       "      <td>eclipse</td>\n",
       "    </tr>\n",
       "    <tr>\n",
       "      <th>2015-03-20 17:47:13</th>\n",
       "      <td>@ebonfigli: Éclipse vue de l'ISS... Autre chos...</td>\n",
       "      <td>0</td>\n",
       "      <td>13</td>\n",
       "      <td>116</td>\n",
       "      <td>0</td>\n",
       "      <td>0</td>\n",
       "      <td>0</td>\n",
       "      <td>0</td>\n",
       "      <td>0</td>\n",
       "      <td>0</td>\n",
       "      <td>...</td>\n",
       "      <td>94</td>\n",
       "      <td>78</td>\n",
       "      <td>0.829787</td>\n",
       "      <td>0</td>\n",
       "      <td>0</td>\n",
       "      <td>0</td>\n",
       "      <td>1275</td>\n",
       "      <td>eclipse_01</td>\n",
       "      <td>./MediaEval/mediaeval2015/testset/TestSetImage...</td>\n",
       "      <td>eclipse</td>\n",
       "    </tr>\n",
       "    <tr>\n",
       "      <th>2015-03-20 09:03:24</th>\n",
       "      <td>Dit dus \\0/ RT “@News_Executive: The Solar ecl...</td>\n",
       "      <td>0</td>\n",
       "      <td>15</td>\n",
       "      <td>139</td>\n",
       "      <td>0</td>\n",
       "      <td>0</td>\n",
       "      <td>0</td>\n",
       "      <td>0</td>\n",
       "      <td>0</td>\n",
       "      <td>0</td>\n",
       "      <td>...</td>\n",
       "      <td>422</td>\n",
       "      <td>880</td>\n",
       "      <td>2.085308</td>\n",
       "      <td>35</td>\n",
       "      <td>0</td>\n",
       "      <td>0</td>\n",
       "      <td>14196</td>\n",
       "      <td>eclipse_01</td>\n",
       "      <td>./MediaEval/mediaeval2015/testset/TestSetImage...</td>\n",
       "      <td>eclipse</td>\n",
       "    </tr>\n",
       "    <tr>\n",
       "      <th>2015-03-20 08:41:23</th>\n",
       "      <td>Photo: The Solar eclipse as seen from the Inte...</td>\n",
       "      <td>0</td>\n",
       "      <td>14</td>\n",
       "      <td>119</td>\n",
       "      <td>0</td>\n",
       "      <td>0</td>\n",
       "      <td>0</td>\n",
       "      <td>0</td>\n",
       "      <td>0</td>\n",
       "      <td>0</td>\n",
       "      <td>...</td>\n",
       "      <td>999</td>\n",
       "      <td>4007</td>\n",
       "      <td>4.011011</td>\n",
       "      <td>156</td>\n",
       "      <td>0</td>\n",
       "      <td>0</td>\n",
       "      <td>6709</td>\n",
       "      <td>eclipse_01</td>\n",
       "      <td>./MediaEval/mediaeval2015/testset/TestSetImage...</td>\n",
       "      <td>eclipse</td>\n",
       "    </tr>\n",
       "    <tr>\n",
       "      <th>2015-03-21 00:19:00</th>\n",
       "      <td>“@planetepics: A solar eclipse, viewed from th...</td>\n",
       "      <td>0</td>\n",
       "      <td>16</td>\n",
       "      <td>111</td>\n",
       "      <td>0</td>\n",
       "      <td>0</td>\n",
       "      <td>0</td>\n",
       "      <td>0</td>\n",
       "      <td>0</td>\n",
       "      <td>0</td>\n",
       "      <td>...</td>\n",
       "      <td>296</td>\n",
       "      <td>357</td>\n",
       "      <td>1.206081</td>\n",
       "      <td>1</td>\n",
       "      <td>0</td>\n",
       "      <td>0</td>\n",
       "      <td>6256</td>\n",
       "      <td>eclipse_01</td>\n",
       "      <td>./MediaEval/mediaeval2015/testset/TestSetImage...</td>\n",
       "      <td>eclipse</td>\n",
       "    </tr>\n",
       "  </tbody>\n",
       "</table>\n",
       "<p>5 rows × 30 columns</p>\n",
       "</div>"
      ],
      "text/plain": [
       "                                                             tweetText  label  \\\n",
       "timestamp                                                                       \n",
       "2015-03-20 17:44:11  @ebonfigli: Éclipse vue de l'ISS... Autre chos...      0   \n",
       "2015-03-20 17:47:13  @ebonfigli: Éclipse vue de l'ISS... Autre chos...      0   \n",
       "2015-03-20 09:03:24  Dit dus \\0/ RT “@News_Executive: The Solar ecl...      0   \n",
       "2015-03-20 08:41:23  Photo: The Solar eclipse as seen from the Inte...      0   \n",
       "2015-03-21 00:19:00  “@planetepics: A solar eclipse, viewed from th...      0   \n",
       "\n",
       "                     num_words  text_length  contains_questmark  \\\n",
       "timestamp                                                         \n",
       "2015-03-20 17:44:11         13          116                   0   \n",
       "2015-03-20 17:47:13         13          116                   0   \n",
       "2015-03-20 09:03:24         15          139                   0   \n",
       "2015-03-20 08:41:23         14          119                   0   \n",
       "2015-03-21 00:19:00         16          111                   0   \n",
       "\n",
       "                     num_questmark  contains_exclammark  num_exclammark  \\\n",
       "timestamp                                                                 \n",
       "2015-03-20 17:44:11              0                    0               0   \n",
       "2015-03-20 17:47:13              0                    0               0   \n",
       "2015-03-20 09:03:24              0                    0               0   \n",
       "2015-03-20 08:41:23              0                    0               0   \n",
       "2015-03-21 00:19:00              0                    0               0   \n",
       "\n",
       "                     contains_happyemo  contains_sademo   ...     num_friends  \\\n",
       "timestamp                                                 ...                   \n",
       "2015-03-20 17:44:11                  0                0   ...             207   \n",
       "2015-03-20 17:47:13                  0                0   ...              94   \n",
       "2015-03-20 09:03:24                  0                0   ...             422   \n",
       "2015-03-20 08:41:23                  0                0   ...             999   \n",
       "2015-03-21 00:19:00                  0                0   ...             296   \n",
       "\n",
       "                     num_followers  folfriend_ratio  times_listed  has_url  \\\n",
       "timestamp                                                                    \n",
       "2015-03-20 17:44:11            276         1.333333            10        0   \n",
       "2015-03-20 17:47:13             78         0.829787             0        0   \n",
       "2015-03-20 09:03:24            880         2.085308            35        0   \n",
       "2015-03-20 08:41:23           4007         4.011011           156        0   \n",
       "2015-03-21 00:19:00            357         1.206081             1        0   \n",
       "\n",
       "                     is_verified  num_tweets     imageId  \\\n",
       "timestamp                                                  \n",
       "2015-03-20 17:44:11            0       15564  eclipse_01   \n",
       "2015-03-20 17:47:13            0        1275  eclipse_01   \n",
       "2015-03-20 09:03:24            0       14196  eclipse_01   \n",
       "2015-03-20 08:41:23            0        6709  eclipse_01   \n",
       "2015-03-21 00:19:00            0        6256  eclipse_01   \n",
       "\n",
       "                                                             imagePath  \\\n",
       "timestamp                                                                \n",
       "2015-03-20 17:44:11  ./MediaEval/mediaeval2015/testset/TestSetImage...   \n",
       "2015-03-20 17:47:13  ./MediaEval/mediaeval2015/testset/TestSetImage...   \n",
       "2015-03-20 09:03:24  ./MediaEval/mediaeval2015/testset/TestSetImage...   \n",
       "2015-03-20 08:41:23  ./MediaEval/mediaeval2015/testset/TestSetImage...   \n",
       "2015-03-21 00:19:00  ./MediaEval/mediaeval2015/testset/TestSetImage...   \n",
       "\n",
       "                       event  \n",
       "timestamp                     \n",
       "2015-03-20 17:44:11  eclipse  \n",
       "2015-03-20 17:47:13  eclipse  \n",
       "2015-03-20 09:03:24  eclipse  \n",
       "2015-03-20 08:41:23  eclipse  \n",
       "2015-03-21 00:19:00  eclipse  \n",
       "\n",
       "[5 rows x 30 columns]"
      ]
     },
     "execution_count": 2,
     "metadata": {},
     "output_type": "execute_result"
    }
   ],
   "source": [
    "test_df = pd.read_pickle('test.pkl')\n",
    "test_df.head()"
   ]
  },
  {
   "cell_type": "code",
   "execution_count": 3,
   "metadata": {},
   "outputs": [
    {
     "data": {
      "text/plain": [
       "event    label\n",
       "eclipse  0        [./MediaEval/mediaeval2015/testset/TestSetImag...\n",
       "         1        [./MediaEval/mediaeval2015/testset/TestSetImag...\n",
       "nepal    0        [./MediaEval/mediaeval2015/testset/TestSetImag...\n",
       "         1        [./MediaEval/mediaeval2015/testset/TestSetImag...\n",
       "Name: imagePath, dtype: object"
      ]
     },
     "execution_count": 3,
     "metadata": {},
     "output_type": "execute_result"
    }
   ],
   "source": [
    "img_array = test_df.groupby(['event', 'label'])['imagePath'].unique()\n",
    "img_array"
   ]
  },
  {
   "cell_type": "markdown",
   "metadata": {},
   "source": [
    "## Visual Clarity Score\n",
    "\n",
    "### Description\n",
    "- VCS measures distribtion difference between two images sets (image set in a news event [event set] vs image set in all events [collection set])\n",
    "- If event set is different from collection set, then it is likely to be real\n",
    "- Compute two language models, one from event set and one from collection set and compute the KL divergence between the two language models\n",
    "- Language model derived from bag-of-words representation\n",
    "\n",
    "### Steps\n",
    "1. Extract SIFT from each image\n",
    "2. Use clustering methods (in this case, paper didn't specify which clutering, so I used K-means is used, i.e. K=200)\n",
    "3. Create histogram of clustered word count for each image (bincount), the normalized the histogram to give $P(w|x)$\n",
    "4. The event language model $P(w|k)$ can be defined as\n",
    "$$P(w|k) = \\sum\\limits_{x \\in R} P(w|x) P(x|k)$$\n",
    "where\n",
    "    - $w \\in V$ is a visual word, $V$ is the visual word vocabulary\n",
    "    - $R$ is image set of target event\n",
    "    - $P(w|x)$ is defined as the term frequency of visual word $w$ in image $x$, this is computed by the histogram in step 3\n",
    "    - $P(x|k) \\propto P(k|x) P(x)$, where $P(k|x) = \\mathbb{I}_{x\\in R}$\n",
    "5. Get the visual clarity score by computing the KL divergence between the event set and the collection set, is given by\n",
    "$$\\text{VCS}(k) =D_{KL}(P(w|x) || P(w|c))$$\n",
    "$$=\\sum\\limits_{w \\in V} P(w|k) \\log \\frac{P(w|k)}{P(w|c)}$$\n",
    "where\n",
    "    - $P(w|c)$ is defined as the term frequency of visual word over images in all news event\n",
    "    \n",
    "### Note\n",
    "- No K is specified for the K-Means clustering in the paper. The authors also didn't specify which clustering algorithm they used. It may be possible to improve the model performance by (i) using another clustering algorithm such as DBScan which do not require the K term, (ii) using GridSearchCV to find the best K term"
   ]
  },
  {
   "cell_type": "markdown",
   "metadata": {},
   "source": [
    "1. SIFT for all images\n",
    "2. Keep track of events in file\n",
    "3. KMeans fit all the images\n",
    "4. KMean predict for individual event\n",
    "5. KL divergence on the histogram distribution"
   ]
  },
  {
   "cell_type": "code",
   "execution_count": 7,
   "metadata": {},
   "outputs": [],
   "source": [
    "import cv2\n",
    "\n",
    "# Look through each directory and extract SIFT information from each picture\n",
    "# and append all the SIFT information of images in a single event to list\n",
    "# Can skip\n",
    "\n",
    "img_desc = []\n",
    "\n",
    "for d in img_array:\n",
    "    event_desc = np.empty((0, 128))\n",
    "    for f in d:\n",
    "        im = cv2.imread(f)\n",
    "        imGrey = cv2.cvtColor(im, cv2.COLOR_BGR2GRAY)\n",
    "        sift = cv2.xfeatures2d.SIFT_create()\n",
    "        keypoint, desc = sift.detectAndCompute(imGrey, None)\n",
    "        event_desc = np.r_[event_desc, desc]\n",
    "    img_desc.append(event_desc)"
   ]
  },
  {
   "cell_type": "code",
   "execution_count": 8,
   "metadata": {},
   "outputs": [
    {
     "data": {
      "text/plain": [
       "(47143, 128)"
      ]
     },
     "execution_count": 8,
     "metadata": {},
     "output_type": "execute_result"
    }
   ],
   "source": [
    "# Stack all the events into a single numpy array for clustering\n",
    "# Can skip\n",
    "\n",
    "img_arr = np.empty((0, 128))\n",
    "\n",
    "for i in img_desc:\n",
    "    img_arr = np.r_[img_arr, i]\n",
    "    \n",
    "img_arr.shape"
   ]
  },
  {
   "cell_type": "code",
   "execution_count": 10,
   "metadata": {},
   "outputs": [],
   "source": [
    "from sklearn.externals import joblib\n",
    "\n",
    "N_CLUSTERS = 200\n",
    "kmeans = joblib.load('kmeans.joblib')"
   ]
  },
  {
   "cell_type": "code",
   "execution_count": 11,
   "metadata": {},
   "outputs": [
    {
     "data": {
      "image/png": "[encoded data removed]",
      "text/plain": [
       "<Figure size 432x288 with 1 Axes>"
      ]
     },
     "metadata": {
      "needs_background": "light"
     },
     "output_type": "display_data"
    }
   ],
   "source": [
    "# Get the predicted cluster and do bincount\n",
    "# Normalize the bincount to get the PMF of P(w|c) by dividing with the total number of descriptors\n",
    "# Can skip\n",
    "\n",
    "clustered = kmeans.predict(img_arr)\n",
    "total_pmf = np.bincount(clustered, minlength = N_CLUSTERS) / img_arr.shape[0]\n",
    "plt.title('Histogram for VBOW for {} clusters'.format(N_CLUSTERS))\n",
    "plt.hist(clustered, bins = N_CLUSTERS)\n",
    "plt.show()"
   ]
  },
  {
   "cell_type": "code",
   "execution_count": 12,
   "metadata": {},
   "outputs": [],
   "source": [
    "# For each event, from each descriptor, predict which cluster\n",
    "# does the descriptor belong to. On the event level, get the total bincount of all the clusters\n",
    "# and normalize the bincount to get PMF of P(w|x) by dividing by the number of descriptors in the event\n",
    "# Can skip\n",
    "\n",
    "kld_list = []\n",
    "for i in img_desc:\n",
    "    event_cluster = kmeans.predict(i)\n",
    "    event_pmf = np.bincount(event_cluster, minlength = N_CLUSTERS) / i.shape[0]\n",
    "    kl_div = np.sum(event_pmf * np.log1p(np.true_divide(event_pmf, total_pmf)))\n",
    "    kld_list.append(kl_div)"
   ]
  },
  {
   "cell_type": "code",
   "execution_count": 13,
   "metadata": {},
   "outputs": [
    {
     "data": {
      "text/html": [
       "<div>\n",
       "<style scoped>\n",
       "    .dataframe tbody tr th:only-of-type {\n",
       "        vertical-align: middle;\n",
       "    }\n",
       "\n",
       "    .dataframe tbody tr th {\n",
       "        vertical-align: top;\n",
       "    }\n",
       "\n",
       "    .dataframe thead th {\n",
       "        text-align: right;\n",
       "    }\n",
       "</style>\n",
       "<table border=\"1\" class=\"dataframe\">\n",
       "  <thead>\n",
       "    <tr style=\"text-align: right;\">\n",
       "      <th></th>\n",
       "      <th></th>\n",
       "      <th>VCS</th>\n",
       "    </tr>\n",
       "    <tr>\n",
       "      <th>event</th>\n",
       "      <th>label</th>\n",
       "      <th></th>\n",
       "    </tr>\n",
       "  </thead>\n",
       "  <tbody>\n",
       "    <tr>\n",
       "      <th rowspan=\"2\" valign=\"top\">eclipse</th>\n",
       "      <th>0</th>\n",
       "      <td>0.961935</td>\n",
       "    </tr>\n",
       "    <tr>\n",
       "      <th>1</th>\n",
       "      <td>1.170985</td>\n",
       "    </tr>\n",
       "    <tr>\n",
       "      <th rowspan=\"2\" valign=\"top\">nepal</th>\n",
       "      <th>0</th>\n",
       "      <td>0.703927</td>\n",
       "    </tr>\n",
       "    <tr>\n",
       "      <th>1</th>\n",
       "      <td>0.700620</td>\n",
       "    </tr>\n",
       "  </tbody>\n",
       "</table>\n",
       "</div>"
      ],
      "text/plain": [
       "                    VCS\n",
       "event   label          \n",
       "eclipse 0      0.961935\n",
       "        1      1.170985\n",
       "nepal   0      0.703927\n",
       "        1      0.700620"
      ]
     },
     "execution_count": 13,
     "metadata": {},
     "output_type": "execute_result"
    }
   ],
   "source": [
    "img_df = pd.DataFrame(kld_list, index = img_array.index, columns = ['VCS'])\n",
    "img_df"
   ]
  },
  {
   "cell_type": "code",
   "execution_count": 14,
   "metadata": {},
   "outputs": [
    {
     "data": {
      "image/png": "[encoded data removed]",
      "text/plain": [
       "<Figure size 432x288 with 1 Axes>"
      ]
     },
     "metadata": {
      "needs_background": "light"
     },
     "output_type": "display_data"
    }
   ],
   "source": [
    "# Plot VCS into boxplot to show the difference of VCS between real and fake events\n",
    "# Can skip\n",
    "\n",
    "sns.boxplot(x = 'label', y = 'VCS', data = img_df.reset_index())\n",
    "plt.title('Boxplot of VCs')\n",
    "plt.show()"
   ]
  },
  {
   "cell_type": "markdown",
   "metadata": {},
   "source": [
    "## Visual Coherence Score\n",
    "\n",
    "### Description\n",
    "- This measures how coherent the images are in a certain news event\n",
    "- Since relevant images tend to share common visual pattern, they are more visually similar\n",
    "- Images in fake news event are more coherent and less diverse\n",
    "- Cosine similarity is used to compute similarity\n",
    "\n",
    "### Steps\n",
    "1. Get the 960-dimensional GIST features for the images\n",
    "2. For each image in the event set, compute the VCoS\n",
    "$$\\text{VCos} (x) = \\frac{1}{|N(N-1)|} \\sum\\limits_{i,j=1,\\cdots,T;i\\neq j}sim(x_i, x_j)$$\n",
    "\n",
    "### Note\n",
    "- In the paper, the author uses a 512 dimensional GIST feature vector, however, I tried a 960 dimensional GIST from the GIST library\n",
    "- More time and effort can be spent to develop the GIST feature library from scratch, if more focus is required on this area\n",
    "- Folder with lesser than 2 pictures will be not processed, since VCoS cannot be computed"
   ]
  },
  {
   "cell_type": "code",
   "execution_count": 15,
   "metadata": {},
   "outputs": [],
   "source": [
    "# Append GIST module path to sys path\n",
    "\n",
    "import sys\n",
    "sys.path.append('/usr/local/lib/python3.6/site-packages/')\n",
    "\n",
    "import gist"
   ]
  },
  {
   "cell_type": "code",
   "execution_count": 16,
   "metadata": {},
   "outputs": [],
   "source": [
    "from sklearn.metrics.pairwise import cosine_similarity\n",
    "\n",
    "vcos_list = []\n",
    "\n",
    "for d in img_array:\n",
    "    for idx, f in enumerate(d):\n",
    "        im = Image.open(f)\n",
    "        desc = gist.extract(np.array(im))\n",
    "        if idx == 0:\n",
    "            joint_desc = np.atleast_2d(desc)\n",
    "        else:\n",
    "            joint_desc = np.vstack([joint_desc, desc])\n",
    "            \n",
    "    N = d.shape[0]\n",
    "    vcos = 1 / (N * (N-1)) * np.sum(np.triu(cosine_similarity(joint_desc)))\n",
    "    vcos_list.append(vcos)"
   ]
  },
  {
   "cell_type": "code",
   "execution_count": 17,
   "metadata": {},
   "outputs": [
    {
     "data": {
      "text/plain": [
       "event    label\n",
       "eclipse  0        0.583111\n",
       "         1        0.709788\n",
       "nepal    0        0.453399\n",
       "         1        0.473203\n",
       "Name: VCoS, dtype: float64"
      ]
     },
     "execution_count": 17,
     "metadata": {},
     "output_type": "execute_result"
    }
   ],
   "source": [
    "vcos = pd.Series(vcos_list, index = img_array.index, name = 'VCoS')\n",
    "vcos"
   ]
  },
  {
   "cell_type": "code",
   "execution_count": 18,
   "metadata": {},
   "outputs": [
    {
     "data": {
      "text/html": [
       "<div>\n",
       "<style scoped>\n",
       "    .dataframe tbody tr th:only-of-type {\n",
       "        vertical-align: middle;\n",
       "    }\n",
       "\n",
       "    .dataframe tbody tr th {\n",
       "        vertical-align: top;\n",
       "    }\n",
       "\n",
       "    .dataframe thead th {\n",
       "        text-align: right;\n",
       "    }\n",
       "</style>\n",
       "<table border=\"1\" class=\"dataframe\">\n",
       "  <thead>\n",
       "    <tr style=\"text-align: right;\">\n",
       "      <th></th>\n",
       "      <th></th>\n",
       "      <th>VCS</th>\n",
       "      <th>VCoS</th>\n",
       "    </tr>\n",
       "    <tr>\n",
       "      <th>event</th>\n",
       "      <th>label</th>\n",
       "      <th></th>\n",
       "      <th></th>\n",
       "    </tr>\n",
       "  </thead>\n",
       "  <tbody>\n",
       "    <tr>\n",
       "      <th rowspan=\"2\" valign=\"top\">eclipse</th>\n",
       "      <th>0</th>\n",
       "      <td>0.961935</td>\n",
       "      <td>0.583111</td>\n",
       "    </tr>\n",
       "    <tr>\n",
       "      <th>1</th>\n",
       "      <td>1.170985</td>\n",
       "      <td>0.709788</td>\n",
       "    </tr>\n",
       "    <tr>\n",
       "      <th rowspan=\"2\" valign=\"top\">nepal</th>\n",
       "      <th>0</th>\n",
       "      <td>0.703927</td>\n",
       "      <td>0.453399</td>\n",
       "    </tr>\n",
       "    <tr>\n",
       "      <th>1</th>\n",
       "      <td>0.700620</td>\n",
       "      <td>0.473203</td>\n",
       "    </tr>\n",
       "  </tbody>\n",
       "</table>\n",
       "</div>"
      ],
      "text/plain": [
       "                    VCS      VCoS\n",
       "event   label                    \n",
       "eclipse 0      0.961935  0.583111\n",
       "        1      1.170985  0.709788\n",
       "nepal   0      0.703927  0.453399\n",
       "        1      0.700620  0.473203"
      ]
     },
     "execution_count": 18,
     "metadata": {},
     "output_type": "execute_result"
    }
   ],
   "source": [
    "img_df = pd.concat([img_df, vcos], axis = 1)\n",
    "img_df"
   ]
  },
  {
   "cell_type": "code",
   "execution_count": 19,
   "metadata": {},
   "outputs": [
    {
     "data": {
      "image/png": "[encoded data removed]",
      "text/plain": [
       "<Figure size 432x288 with 1 Axes>"
      ]
     },
     "metadata": {
      "needs_background": "light"
     },
     "output_type": "display_data"
    }
   ],
   "source": [
    "sns.boxplot(x = 'label', y = 'VCoS', data = img_df.reset_index())\n",
    "plt.title('Boxplot of VCos')\n",
    "plt.show()"
   ]
  },
  {
   "cell_type": "markdown",
   "metadata": {},
   "source": [
    "## Visual Similarity Distribution Histogram\n",
    "\n",
    "### Description\n",
    "- The VSDH can describe image similarity distribution has finer granularity than VCos\n",
    "- For an event set $R$, there is a visual similarity matrix $M \\in \\mathbb{R}^{N \\times N}$\n",
    "- $m_{ij} \\in M$ is the visual similarity between images\n",
    "- Images are ranked based on their similarity (in this case, the images are ranked based on the number of times it appears in tweets)\n",
    "- Compute $m_{ij}$ similarity is computed as per VCoS\n",
    "- Quantified it into H-bin (in this case H = 10)\n",
    "\n",
    "### Steps\n",
    "1. As per VCoS, get 960 dimensional GIST from image\n",
    "2. Rank the images are per the number of occurence in the text\n",
    "3. Compute cosine similarity between $x_i$ and $x_j$\n",
    "4. Compute 10-bin histogram by mapping each element into its bin\n",
    "$$VSDH(h) = \\frac{1}{N^2} \\left| {(i,j)} | i,j \\leq N, m_{ij} \\in \\text{h-th bin}\\right|$$\n",
    "5. $VSDH(k) = \\text{h-th bin}$"
   ]
  },
  {
   "cell_type": "markdown",
   "metadata": {},
   "source": [
    "#### Extract VSDH and VDS for all images"
   ]
  },
  {
   "cell_type": "code",
   "execution_count": 20,
   "metadata": {},
   "outputs": [],
   "source": [
    "histList = []\n",
    "vdsList = []\n",
    "\n",
    "for d in img_array:\n",
    "    N = d.shape[0]\n",
    "    for idx, f in enumerate(d):\n",
    "        im = Image.open(f)\n",
    "        desc = gist.extract(np.array(im))\n",
    "        if idx == 0:\n",
    "            joint_desc = np.atleast_2d(desc)\n",
    "        else:\n",
    "            joint_desc = np.vstack([joint_desc, desc])\n",
    "\n",
    "    cos_sim = cosine_similarity(joint_desc)\n",
    "    \n",
    "    # 10-bin Histogram\n",
    "    cos_sim_flat = np.tril(cos_sim).flatten()\n",
    "    histList.append(cos_sim_flat)\n",
    "    \n",
    "    # Get dissimilarity matrix\n",
    "    dis_sim = 1 - cos_sim \n",
    "    vds = np.sum(np.sum(np.tril(dis_sim), axis = 1) / (np.arange(dis_sim.shape[0]) + 1))\n",
    "    vdsList.append(vds)"
   ]
  },
  {
   "cell_type": "code",
   "execution_count": 127,
   "metadata": {
    "scrolled": false
   },
   "outputs": [
    {
     "data": {
      "image/png": "[encoded data removed]",
      "text/plain": [
       "<Figure size 720x2160 with 8 Axes>"
      ]
     },
     "metadata": {
      "needs_background": "light"
     },
     "output_type": "display_data"
    }
   ],
   "source": [
    "hist_len = len(histList)\n",
    "\n",
    "fig, ax = plt.subplots(nrows = int(np.ceil(hist_len / 2)), ncols = 2, figsize = (10, 30))\n",
    "\n",
    "for i, f in enumerate(img_array.index):\n",
    "    event = f[0]\n",
    "    label = 'real'\n",
    "    if f[1] == 1:\n",
    "        label = 'fake'\n",
    "    ax[int(i/2), i%2].hist(histList[i][np.nonzero(histList[i])], bins = 10)\n",
    "    ax[int(i/2), i%2].set_title('10 bins histogram for {} {}'.format(event, label))"
   ]
  },
  {
   "cell_type": "markdown",
   "metadata": {},
   "source": [
    "## Visual Diversity Score\n",
    "\n",
    "### Description\n",
    "- VDS measures the visual difference in the images in the event set, it compute image diversity more directly than VCoS and more emphasis on represntative images\n",
    "- Diversity of an image is the minimal difference with the image ranking before it\n",
    "- The images are ranked as per VSDH\n",
    "- The dissimilarity between images are then computed in the position $i$ and $j$ by taking the complementary of similarity\n",
    "- The VCos take the average similarity, but VDS is a weighted average of similarity, as VSD give more emphasis to the top-ranked images\n",
    "- Hence, VDS reduce the impact of noise images\n",
    "\n",
    "### Steps\n",
    "1. Same as VSDH (1)\n",
    "2. Same as VSDH (2)\n",
    "3. Compute dissimilarity as given by\n",
    "$$dis(x_i, x_j) = 1 - sim(x_i, x_j)$$\n",
    "4. The visual diversity score is then computed by\n",
    "$$\\text{VDS}(k) = \\sum\\limits_{i=1}^{N} \\frac{1}{i} \\sum\\limits_{j=1}^{i} dis(x_i, x_j)$$"
   ]
  },
  {
   "cell_type": "markdown",
   "metadata": {},
   "source": [
    "#### Example of SandyA Real"
   ]
  },
  {
   "cell_type": "code",
   "execution_count": 128,
   "metadata": {},
   "outputs": [
    {
     "data": {
      "text/plain": [
       "<matplotlib.axes._subplots.AxesSubplot at 0x1a18f7ed68>"
      ]
     },
     "execution_count": 128,
     "metadata": {},
     "output_type": "execute_result"
    },
    {
     "data": {
      "image/png": "[encoded data removed]",
      "text/plain": [
       "<Figure size 432x288 with 2 Axes>"
      ]
     },
     "metadata": {
      "needs_background": "light"
     },
     "output_type": "display_data"
    }
   ],
   "source": [
    "mask = np.zeros_like(sandy_dis_sim, dtype = np.bool)\n",
    "mask[np.triu_indices_from(mask)] = True\n",
    "\n",
    "sandy_vds = np.tril(sandy_dis_sim) * (1 / (np.arange(sandy_dis_sim.shape[0]) + 1))\n",
    "\n",
    "sns.heatmap(sandy_vds, mask = mask)"
   ]
  },
  {
   "cell_type": "code",
   "execution_count": 129,
   "metadata": {
    "scrolled": true
   },
   "outputs": [
    {
     "name": "stdout",
     "output_type": "stream",
     "text": [
      "Visual Diversity Score for SandyA Real is 3.2196965900557424\n"
     ]
    }
   ],
   "source": [
    "sandy_vds_sum = np.sum(np.sum(np.tril(dis_sim), axis = 1) / (np.arange(dis_sim.shape[0]) + 1))\n",
    "\n",
    "print ('Visual Diversity Score for SandyA Real is {}'.format(sandy_vds_sum))"
   ]
  },
  {
   "cell_type": "code",
   "execution_count": 131,
   "metadata": {},
   "outputs": [
    {
     "data": {
      "text/plain": [
       "event               label\n",
       "boston              0         4.129190\n",
       "                    1         3.941849\n",
       "columbianChemicals  0         2.534407\n",
       "malaysia            0         5.250847\n",
       "sandy               0        18.899307\n",
       "                    1        31.127527\n",
       "sochi               0         3.219697\n",
       "Name: VDS, dtype: float64"
      ]
     },
     "execution_count": 131,
     "metadata": {},
     "output_type": "execute_result"
    }
   ],
   "source": [
    "vds = pd.Series(vdsList, index = img_array.index, name = 'VDS')\n",
    "vds"
   ]
  },
  {
   "cell_type": "code",
   "execution_count": 132,
   "metadata": {},
   "outputs": [
    {
     "data": {
      "text/html": [
       "<div>\n",
       "<style scoped>\n",
       "    .dataframe tbody tr th:only-of-type {\n",
       "        vertical-align: middle;\n",
       "    }\n",
       "\n",
       "    .dataframe tbody tr th {\n",
       "        vertical-align: top;\n",
       "    }\n",
       "\n",
       "    .dataframe thead th {\n",
       "        text-align: right;\n",
       "    }\n",
       "</style>\n",
       "<table border=\"1\" class=\"dataframe\">\n",
       "  <thead>\n",
       "    <tr style=\"text-align: right;\">\n",
       "      <th></th>\n",
       "      <th></th>\n",
       "      <th>VCS</th>\n",
       "      <th>VCoS</th>\n",
       "      <th>VDS</th>\n",
       "    </tr>\n",
       "    <tr>\n",
       "      <th>event</th>\n",
       "      <th>label</th>\n",
       "      <th></th>\n",
       "      <th></th>\n",
       "      <th></th>\n",
       "    </tr>\n",
       "  </thead>\n",
       "  <tbody>\n",
       "    <tr>\n",
       "      <th rowspan=\"2\" valign=\"top\">boston</th>\n",
       "      <th>0</th>\n",
       "      <td>0.714928</td>\n",
       "      <td>0.448832</td>\n",
       "      <td>4.129190</td>\n",
       "    </tr>\n",
       "    <tr>\n",
       "      <th>1</th>\n",
       "      <td>0.722243</td>\n",
       "      <td>0.452021</td>\n",
       "      <td>3.941849</td>\n",
       "    </tr>\n",
       "    <tr>\n",
       "      <th>columbianChemicals</th>\n",
       "      <th>0</th>\n",
       "      <td>0.743426</td>\n",
       "      <td>0.462381</td>\n",
       "      <td>2.534407</td>\n",
       "    </tr>\n",
       "    <tr>\n",
       "      <th>malaysia</th>\n",
       "      <th>0</th>\n",
       "      <td>0.810919</td>\n",
       "      <td>0.436661</td>\n",
       "      <td>5.250847</td>\n",
       "    </tr>\n",
       "    <tr>\n",
       "      <th rowspan=\"2\" valign=\"top\">sandy</th>\n",
       "      <th>0</th>\n",
       "      <td>0.709435</td>\n",
       "      <td>0.353685</td>\n",
       "      <td>18.899307</td>\n",
       "    </tr>\n",
       "    <tr>\n",
       "      <th>1</th>\n",
       "      <td>0.702138</td>\n",
       "      <td>0.399166</td>\n",
       "      <td>31.127527</td>\n",
       "    </tr>\n",
       "    <tr>\n",
       "      <th>sochi</th>\n",
       "      <th>0</th>\n",
       "      <td>0.780510</td>\n",
       "      <td>0.466992</td>\n",
       "      <td>3.219697</td>\n",
       "    </tr>\n",
       "  </tbody>\n",
       "</table>\n",
       "</div>"
      ],
      "text/plain": [
       "                               VCS      VCoS        VDS\n",
       "event              label                               \n",
       "boston             0      0.714928  0.448832   4.129190\n",
       "                   1      0.722243  0.452021   3.941849\n",
       "columbianChemicals 0      0.743426  0.462381   2.534407\n",
       "malaysia           0      0.810919  0.436661   5.250847\n",
       "sandy              0      0.709435  0.353685  18.899307\n",
       "                   1      0.702138  0.399166  31.127527\n",
       "sochi              0      0.780510  0.466992   3.219697"
      ]
     },
     "execution_count": 132,
     "metadata": {},
     "output_type": "execute_result"
    }
   ],
   "source": [
    "img_df = pd.concat([img_df, vds], axis = 1)\n",
    "img_df"
   ]
  },
  {
   "cell_type": "code",
   "execution_count": 134,
   "metadata": {},
   "outputs": [],
   "source": [
    "img_df.to_pickle('img_diversity.pkl')"
   ]
  },
  {
   "cell_type": "code",
   "execution_count": null,
   "metadata": {},
   "outputs": [],
   "source": []
  }
 ],
 "metadata": {
  "kernelspec": {
   "display_name": "Python 3",
   "language": "python",
   "name": "python3"
  },
  "language_info": {
   "codemirror_mode": {
    "name": "ipython",
    "version": 3
   },
   "file_extension": ".py",
   "mimetype": "text/x-python",
   "name": "python",
   "nbconvert_exporter": "python",
   "pygments_lexer": "ipython3",
   "version": "3.6.6"
  }
 },
 "nbformat": 4,
 "nbformat_minor": 2
}
